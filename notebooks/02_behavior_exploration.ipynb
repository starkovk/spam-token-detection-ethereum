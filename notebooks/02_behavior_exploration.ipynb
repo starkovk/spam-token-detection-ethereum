{
 "cells": [
  {
   "cell_type": "code",
   "execution_count": 1,
   "id": "859be48a-403a-4976-b52a-82d722a1d60a",
   "metadata": {},
   "outputs": [
    {
     "name": "stdout",
     "output_type": "stream",
     "text": [
      " Analyzing token creators...\n",
      " Creator counts calculated.\n",
      "count    1580.000000\n",
      "mean        2.824051\n",
      "std        16.465003\n",
      "min         1.000000\n",
      "25%         1.000000\n",
      "50%         1.000000\n",
      "75%         1.000000\n",
      "max       531.000000\n",
      "Name: count, dtype: float64 \n",
      "\n",
      " Top 10 creators by number of tokens created:\n",
      "CREATOR_ADDRESS\n",
      "0x0de8bf93da2f7eecb3d9169422413a9bef4ef628    531\n",
      "0x0a252663dbcc0b073063d6420a40319e438cfa59    289\n",
      "0x0000000000771a79d0fc7f3b7fe270eb4498f20b    126\n",
      "0x881d4032abe4188e2237efcd27ab435e81fc6bb1     95\n",
      "0xffa397285ce46fb78c588a9e993286aac68c37cd     87\n",
      "0x42bca2a5593c3b6dc2ebaf62db7e7f6e1d273794     87\n",
      "0x0000000000b3f879cb30fe243b4dfee438691c04     78\n",
      "0x548138ff7cbffb1605d8a57533276c6633ec6992     67\n",
      "0x5c69bee701ef814a2b6a3edd4b1652cb9cc5aa6f     56\n",
      "0xa24787320ede4cc19d800bf87b41ab9539c4da9d     47\n",
      "Name: count, dtype: int64 \n",
      "\n",
      " Average number of tokens created by label:\n",
      "LABEL\n",
      "0    190.964590\n",
      "1      6.553115\n",
      "Name: CREATOR_TOKEN_COUNT, dtype: float64 \n",
      "\n"
     ]
    }
   ],
   "source": [
    "import pandas as pd\n",
    "import numpy as np\n",
    "\n",
    "# If needed, reload training_tokens (small size so safe)\n",
    "training_tokens = pd.read_parquet(\"../data/raw/training_tokens.parquet\")\n",
    "\n",
    "print(\" Analyzing token creators...\")\n",
    "\n",
    "# 1. Number of tokens created per creator\n",
    "creator_counts = training_tokens[\"CREATOR_ADDRESS\"].value_counts()\n",
    "print(\" Creator counts calculated.\")\n",
    "print(creator_counts.describe(), \"\\n\")\n",
    "\n",
    "# 2. Check top creators\n",
    "print(\" Top 10 creators by number of tokens created:\")\n",
    "print(creator_counts.head(10), \"\\n\")\n",
    "\n",
    "# 3. Merge creator counts into the training set\n",
    "training_tokens[\"CREATOR_TOKEN_COUNT\"] = training_tokens[\"CREATOR_ADDRESS\"].map(creator_counts)\n",
    "\n",
    "# 4. Check relationship between number of tokens created and spam/legit label\n",
    "print(\" Average number of tokens created by label:\")\n",
    "print(training_tokens.groupby(\"LABEL\")[\"CREATOR_TOKEN_COUNT\"].mean(), \"\\n\")\n"
   ]
  },
  {
   "cell_type": "code",
   "execution_count": 2,
   "id": "fcd3f91f-9ce0-477e-b019-e42ce81bb97a",
   "metadata": {},
   "outputs": [
    {
     "name": "stdout",
     "output_type": "stream",
     "text": [
      " Analyzing token transfer behavior (memory safe)...\n",
      " token_transfers_sample loaded with CONTRACT_ADDRESS only.\n",
      " Transfer counts per token calculated.\n",
      "count    2556.000000\n",
      "mean      195.618153\n",
      "std       368.273845\n",
      "min         1.000000\n",
      "25%        14.750000\n",
      "50%        81.500000\n",
      "75%       225.250000\n",
      "max      5481.000000\n",
      "Name: count, dtype: float64 \n",
      "\n",
      " Average number of transfers by label:\n",
      "LABEL\n",
      "0     12.533333\n",
      "1    209.497003\n",
      "Name: TRANSFER_COUNT, dtype: float64 \n",
      "\n"
     ]
    }
   ],
   "source": [
    "print(\" Analyzing token transfer behavior (memory safe)...\")\n",
    "\n",
    "# Load ONLY the needed column\n",
    "token_transfers_sample = pd.read_parquet(\n",
    "    \"../data/raw/token_transfers.parquet\",\n",
    "    columns=[\"CONTRACT_ADDRESS\"]\n",
    ").sample(500_000, random_state=42)\n",
    "\n",
    "print(\" token_transfers_sample loaded with CONTRACT_ADDRESS only.\")\n",
    "\n",
    "# 1. Count number of transfers per token\n",
    "transfer_counts = token_transfers_sample[\"CONTRACT_ADDRESS\"].value_counts()\n",
    "print(\" Transfer counts per token calculated.\")\n",
    "print(transfer_counts.describe(), \"\\n\")\n",
    "\n",
    "# 2. Merge transfer counts into training_tokens\n",
    "training_tokens[\"TRANSFER_COUNT\"] = training_tokens[\"ADDRESS\"].map(transfer_counts)\n",
    "\n",
    "# 3. Analyze average transfer count per label\n",
    "print(\" Average number of transfers by label:\")\n",
    "print(training_tokens.groupby(\"LABEL\")[\"TRANSFER_COUNT\"].mean(), \"\\n\")\n",
    "\n"
   ]
  },
  {
   "cell_type": "code",
   "execution_count": 3,
   "id": "ae331148-3454-466c-8871-95a4d86b6885",
   "metadata": {},
   "outputs": [
    {
     "name": "stdout",
     "output_type": "stream",
     "text": [
      " Analyzing token swap behavior...\n",
      " Swap counts as Token In calculated.\n",
      "count      580.000000\n",
      "mean       229.143103\n",
      "std       3863.091083\n",
      "min          1.000000\n",
      "25%          4.000000\n",
      "50%          9.000000\n",
      "75%         26.000000\n",
      "max      91824.000000\n",
      "Name: count, dtype: float64 \n",
      "\n",
      " Swap counts as Token Out calculated.\n",
      "count      615.000000\n",
      "mean       216.102439\n",
      "std       1780.243436\n",
      "min          1.000000\n",
      "25%         25.000000\n",
      "50%         49.000000\n",
      "75%        103.000000\n",
      "max      40721.000000\n",
      "Name: count, dtype: float64 \n",
      "\n",
      " Average Swap IN count by label:\n",
      "LABEL\n",
      "0    115.125000\n",
      "1     75.191067\n",
      "Name: SWAP_IN_COUNT, dtype: float64 \n",
      "\n",
      " Average Swap OUT count by label:\n",
      "LABEL\n",
      "0    135.507463\n",
      "1    158.857831\n",
      "Name: SWAP_OUT_COUNT, dtype: float64 \n",
      "\n"
     ]
    }
   ],
   "source": [
    "print(\" Analyzing token swap behavior...\")\n",
    "\n",
    "# Load dex_swaps (safe size, not too big)\n",
    "dex_swaps = pd.read_parquet(\"../data/raw/dex_swaps.parquet\")\n",
    "\n",
    "# 1. Count number of swaps per token (Token In side)\n",
    "swap_in_counts = dex_swaps[\"TOKEN_IN\"].value_counts()\n",
    "print(\" Swap counts as Token In calculated.\")\n",
    "print(swap_in_counts.describe(), \"\\n\")\n",
    "\n",
    "# 2. Count number of swaps per token (Token Out side)\n",
    "swap_out_counts = dex_swaps[\"TOKEN_OUT\"].value_counts()\n",
    "print(\" Swap counts as Token Out calculated.\")\n",
    "print(swap_out_counts.describe(), \"\\n\")\n",
    "\n",
    "# 3. Merge swap counts into training_tokens\n",
    "training_tokens[\"SWAP_IN_COUNT\"] = training_tokens[\"ADDRESS\"].map(swap_in_counts)\n",
    "training_tokens[\"SWAP_OUT_COUNT\"] = training_tokens[\"ADDRESS\"].map(swap_out_counts)\n",
    "\n",
    "# 4. Analyze average swap counts by label\n",
    "print(\" Average Swap IN count by label:\")\n",
    "print(training_tokens.groupby(\"LABEL\")[\"SWAP_IN_COUNT\"].mean(), \"\\n\")\n",
    "\n",
    "print(\" Average Swap OUT count by label:\")\n",
    "print(training_tokens.groupby(\"LABEL\")[\"SWAP_OUT_COUNT\"].mean(), \"\\n\")\n"
   ]
  },
  {
   "cell_type": "code",
   "execution_count": 4,
   "id": "b643b2e1-5432-466a-920a-324a32b52478",
   "metadata": {},
   "outputs": [
    {
     "name": "stdout",
     "output_type": "stream",
     "text": [
      " Building feature summary...\n",
      " Feature Summary:\n",
      "                      count        mean         std  min    25%   50%    75%  \\\n",
      "CREATOR_TOKEN_COUNT  4462.0   98.758853  174.562627  1.0   1.00   6.0   87.0   \n",
      "TRANSFER_COUNT       2062.0  203.765761  381.148038  1.0  15.25  84.0  235.0   \n",
      "SWAP_IN_COUNT         459.0   80.063181  715.531371  1.0   4.00   9.0   25.0   \n",
      "SWAP_OUT_COUNT        482.0  155.612033  782.274556  1.0  24.25  49.0  102.0   \n",
      "\n",
      "                         max  missing_%  \n",
      "CREATOR_TOKEN_COUNT    531.0   0.000000  \n",
      "TRANSFER_COUNT        5481.0  53.787539  \n",
      "SWAP_IN_COUNT        14877.0  89.713133  \n",
      "SWAP_OUT_COUNT       16164.0  89.197669  \n"
     ]
    }
   ],
   "source": [
    "print(\" Building feature summary...\")\n",
    "\n",
    "# 1. Select the behavior features discovered\n",
    "feature_columns = [\n",
    "    \"CREATOR_TOKEN_COUNT\",\n",
    "    \"TRANSFER_COUNT\",\n",
    "    \"SWAP_IN_COUNT\",\n",
    "    \"SWAP_OUT_COUNT\"\n",
    "]\n",
    "\n",
    "# 2. Check nulls and basic stats\n",
    "feature_summary = training_tokens[feature_columns].describe().T\n",
    "\n",
    "# 3. Add % missing information\n",
    "feature_summary[\"missing_%\"] = training_tokens[feature_columns].isnull().mean() * 100\n",
    "\n",
    "print(\" Feature Summary:\")\n",
    "print(feature_summary)\n"
   ]
  },
  {
   "cell_type": "code",
   "execution_count": null,
   "id": "69b9ad3b-de57-4b00-8b2b-5dd106303204",
   "metadata": {},
   "outputs": [],
   "source": []
  }
 ],
 "metadata": {
  "kernelspec": {
   "display_name": "Python 3 (ipykernel)",
   "language": "python",
   "name": "python3"
  },
  "language_info": {
   "codemirror_mode": {
    "name": "ipython",
    "version": 3
   },
   "file_extension": ".py",
   "mimetype": "text/x-python",
   "name": "python",
   "nbconvert_exporter": "python",
   "pygments_lexer": "ipython3",
   "version": "3.13.3"
  }
 },
 "nbformat": 4,
 "nbformat_minor": 5
}
# Daily commit on  2 июл 2025 г. 12:45:00
# Daily commit on  1 авг 2025 г. 12:15:58
